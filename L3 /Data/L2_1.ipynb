{
 "cells": [
  {
   "cell_type": "markdown",
   "id": "a2239772-8498-4584-a45d-71e50cd1b683",
   "metadata": {},
   "source": [
    "<center style=\"font-size: 2em; font-weight: bold;\"> Microeconometria Aplicada II </center>\n",
    "<center style=\"font-size: 2em; font-weight: bold;\"> Tema 3 </center>\n",
    "<left style=\"font-size: 4em; font-weight: bold;\"> Autor: Edinson Tolentino </left>"
   ]
  },
  {
   "cell_type": "code",
   "execution_count": 1,
   "id": "153ee293-fd2c-43ad-977f-b8cdd4970e7b",
   "metadata": {},
   "outputs": [],
   "source": [
    "# librerias para manipulacion de datos\n",
    "import pandas # manipulacion de datos \n",
    "import os # sistema operativo\n",
    "import numpy # manipulacion de variables\n",
    "import sympy # operacion math\n",
    "\n",
    "# Librerias de Graficos\n",
    "import seaborn\n",
    "import matplotlib.pyplot as plt\n",
    "\n",
    "# librerias de distribucion estadistica\n",
    "from scipy.stats import norm # distribucion normal\n"
   ]
  },
  {
   "cell_type": "markdown",
   "id": "628f941c-cd7f-417f-85c0-9fd631982978",
   "metadata": {},
   "source": [
    "# Carga de datos"
   ]
  },
  {
   "cell_type": "code",
   "execution_count": 2,
   "id": "6f32d9c4-aaed-4bc9-ab00-4fde2ad579f5",
   "metadata": {},
   "outputs": [],
   "source": [
    "# Ruta de carpeta\n",
    "ruta = 'D:/Dropbox/Docencia/UPN/Estadistica/S13/Data'\n"
   ]
  },
  {
   "cell_type": "code",
   "execution_count": 3,
   "id": "896c8600-0793-4cd3-86af-d693a4656cb2",
   "metadata": {},
   "outputs": [],
   "source": [
    "data = pandas.read_csv(os.path.join(ruta,\"E0.csv\"))"
   ]
  },
  {
   "cell_type": "code",
   "execution_count": 4,
   "id": "f25afb46-a579-4eab-bfc3-98ecbd16c2c5",
   "metadata": {},
   "outputs": [],
   "source": [
    "#data = pandas.read_csv(\"E0.csv\")"
   ]
  },
  {
   "cell_type": "code",
   "execution_count": 5,
   "id": "63582368-9cad-4def-a140-dd70bfe00043",
   "metadata": {},
   "outputs": [
    {
     "data": {
      "text/html": [
       "<div>\n",
       "<style scoped>\n",
       "    .dataframe tbody tr th:only-of-type {\n",
       "        vertical-align: middle;\n",
       "    }\n",
       "\n",
       "    .dataframe tbody tr th {\n",
       "        vertical-align: top;\n",
       "    }\n",
       "\n",
       "    .dataframe thead th {\n",
       "        text-align: right;\n",
       "    }\n",
       "</style>\n",
       "<table border=\"1\" class=\"dataframe\">\n",
       "  <thead>\n",
       "    <tr style=\"text-align: right;\">\n",
       "      <th></th>\n",
       "      <th>Div</th>\n",
       "      <th>Date</th>\n",
       "      <th>Time</th>\n",
       "      <th>HomeTeam</th>\n",
       "      <th>AwayTeam</th>\n",
       "      <th>FTHG</th>\n",
       "      <th>FTAG</th>\n",
       "      <th>FTR</th>\n",
       "      <th>HTHG</th>\n",
       "      <th>HTAG</th>\n",
       "      <th>...</th>\n",
       "      <th>AvgC&lt;2.5</th>\n",
       "      <th>AHCh</th>\n",
       "      <th>B365CAHH</th>\n",
       "      <th>B365CAHA</th>\n",
       "      <th>PCAHH</th>\n",
       "      <th>PCAHA</th>\n",
       "      <th>MaxCAHH</th>\n",
       "      <th>MaxCAHA</th>\n",
       "      <th>AvgCAHH</th>\n",
       "      <th>AvgCAHA</th>\n",
       "    </tr>\n",
       "  </thead>\n",
       "  <tbody>\n",
       "    <tr>\n",
       "      <th>0</th>\n",
       "      <td>E0</td>\n",
       "      <td>13/08/2021</td>\n",
       "      <td>20:00</td>\n",
       "      <td>Brentford</td>\n",
       "      <td>Arsenal</td>\n",
       "      <td>2</td>\n",
       "      <td>0</td>\n",
       "      <td>H</td>\n",
       "      <td>1</td>\n",
       "      <td>0</td>\n",
       "      <td>...</td>\n",
       "      <td>1.62</td>\n",
       "      <td>0.50</td>\n",
       "      <td>1.75</td>\n",
       "      <td>2.05</td>\n",
       "      <td>1.81</td>\n",
       "      <td>2.13</td>\n",
       "      <td>2.05</td>\n",
       "      <td>2.17</td>\n",
       "      <td>1.80</td>\n",
       "      <td>2.09</td>\n",
       "    </tr>\n",
       "    <tr>\n",
       "      <th>1</th>\n",
       "      <td>E0</td>\n",
       "      <td>14/08/2021</td>\n",
       "      <td>12:30</td>\n",
       "      <td>Man United</td>\n",
       "      <td>Leeds</td>\n",
       "      <td>5</td>\n",
       "      <td>1</td>\n",
       "      <td>H</td>\n",
       "      <td>1</td>\n",
       "      <td>0</td>\n",
       "      <td>...</td>\n",
       "      <td>2.25</td>\n",
       "      <td>-1.00</td>\n",
       "      <td>2.05</td>\n",
       "      <td>1.75</td>\n",
       "      <td>2.17</td>\n",
       "      <td>1.77</td>\n",
       "      <td>2.19</td>\n",
       "      <td>1.93</td>\n",
       "      <td>2.10</td>\n",
       "      <td>1.79</td>\n",
       "    </tr>\n",
       "    <tr>\n",
       "      <th>2</th>\n",
       "      <td>E0</td>\n",
       "      <td>14/08/2021</td>\n",
       "      <td>15:00</td>\n",
       "      <td>Burnley</td>\n",
       "      <td>Brighton</td>\n",
       "      <td>1</td>\n",
       "      <td>2</td>\n",
       "      <td>A</td>\n",
       "      <td>1</td>\n",
       "      <td>0</td>\n",
       "      <td>...</td>\n",
       "      <td>1.62</td>\n",
       "      <td>0.25</td>\n",
       "      <td>1.79</td>\n",
       "      <td>2.15</td>\n",
       "      <td>1.81</td>\n",
       "      <td>2.14</td>\n",
       "      <td>1.82</td>\n",
       "      <td>2.19</td>\n",
       "      <td>1.79</td>\n",
       "      <td>2.12</td>\n",
       "    </tr>\n",
       "    <tr>\n",
       "      <th>3</th>\n",
       "      <td>E0</td>\n",
       "      <td>14/08/2021</td>\n",
       "      <td>15:00</td>\n",
       "      <td>Chelsea</td>\n",
       "      <td>Crystal Palace</td>\n",
       "      <td>3</td>\n",
       "      <td>0</td>\n",
       "      <td>H</td>\n",
       "      <td>2</td>\n",
       "      <td>0</td>\n",
       "      <td>...</td>\n",
       "      <td>1.94</td>\n",
       "      <td>-1.50</td>\n",
       "      <td>2.05</td>\n",
       "      <td>1.75</td>\n",
       "      <td>2.12</td>\n",
       "      <td>1.81</td>\n",
       "      <td>2.16</td>\n",
       "      <td>1.93</td>\n",
       "      <td>2.06</td>\n",
       "      <td>1.82</td>\n",
       "    </tr>\n",
       "    <tr>\n",
       "      <th>4</th>\n",
       "      <td>E0</td>\n",
       "      <td>14/08/2021</td>\n",
       "      <td>15:00</td>\n",
       "      <td>Everton</td>\n",
       "      <td>Southampton</td>\n",
       "      <td>3</td>\n",
       "      <td>1</td>\n",
       "      <td>H</td>\n",
       "      <td>0</td>\n",
       "      <td>1</td>\n",
       "      <td>...</td>\n",
       "      <td>1.67</td>\n",
       "      <td>-0.50</td>\n",
       "      <td>2.05</td>\n",
       "      <td>1.88</td>\n",
       "      <td>2.05</td>\n",
       "      <td>1.88</td>\n",
       "      <td>2.08</td>\n",
       "      <td>1.90</td>\n",
       "      <td>2.03</td>\n",
       "      <td>1.86</td>\n",
       "    </tr>\n",
       "  </tbody>\n",
       "</table>\n",
       "<p>5 rows × 106 columns</p>\n",
       "</div>"
      ],
      "text/plain": [
       "  Div        Date   Time    HomeTeam        AwayTeam  FTHG  FTAG FTR  HTHG  \\\n",
       "0  E0  13/08/2021  20:00   Brentford         Arsenal     2     0   H     1   \n",
       "1  E0  14/08/2021  12:30  Man United           Leeds     5     1   H     1   \n",
       "2  E0  14/08/2021  15:00     Burnley        Brighton     1     2   A     1   \n",
       "3  E0  14/08/2021  15:00     Chelsea  Crystal Palace     3     0   H     2   \n",
       "4  E0  14/08/2021  15:00     Everton     Southampton     3     1   H     0   \n",
       "\n",
       "   HTAG  ... AvgC<2.5  AHCh  B365CAHH  B365CAHA  PCAHH  PCAHA  MaxCAHH  \\\n",
       "0     0  ...     1.62  0.50      1.75      2.05   1.81   2.13     2.05   \n",
       "1     0  ...     2.25 -1.00      2.05      1.75   2.17   1.77     2.19   \n",
       "2     0  ...     1.62  0.25      1.79      2.15   1.81   2.14     1.82   \n",
       "3     0  ...     1.94 -1.50      2.05      1.75   2.12   1.81     2.16   \n",
       "4     1  ...     1.67 -0.50      2.05      1.88   2.05   1.88     2.08   \n",
       "\n",
       "   MaxCAHA  AvgCAHH  AvgCAHA  \n",
       "0     2.17     1.80     2.09  \n",
       "1     1.93     2.10     1.79  \n",
       "2     2.19     1.79     2.12  \n",
       "3     1.93     2.06     1.82  \n",
       "4     1.90     2.03     1.86  \n",
       "\n",
       "[5 rows x 106 columns]"
      ]
     },
     "execution_count": 5,
     "metadata": {},
     "output_type": "execute_result"
    }
   ],
   "source": [
    "data.head()"
   ]
  },
  {
   "cell_type": "markdown",
   "id": "df53c836-f2e4-4ef3-ab02-6653aa0798cc",
   "metadata": {},
   "source": [
    "# Descripccion de variables"
   ]
  },
  {
   "cell_type": "markdown",
   "id": "e514b9c4-ddbf-4e45-ad78-8187290c73b0",
   "metadata": {},
   "source": [
    "La descripccion de variables se encuentran en la siguiente pagina\n",
    "\n",
    "https://www.football-data.co.uk/englandm.php\n",
    "\n",
    "Aqui algunas variables principales:\n",
    "\n",
    "- Attendance = Crowd Attendance\n",
    "- FTHG and HG = Full Time Home Team Goals\n",
    "- FTAG and AG = Full Time Away Team Goals\n",
    "- HS = Home Team Shots\n",
    "- AS = Away Team Shots\n",
    "- Referee = Match Referee\n",
    "- HO = Home Team Offsides\n",
    "- AO = Away Team Offsides\n",
    "- HY = Home Team Yellow Cards\n",
    "- AY = Away Team Yellow Cards"
   ]
  },
  {
   "cell_type": "code",
   "execution_count": 6,
   "id": "e7d1679f-d643-47ea-ae89-87732f2210ec",
   "metadata": {},
   "outputs": [
    {
     "data": {
      "text/plain": [
       "(380, 106)"
      ]
     },
     "execution_count": 6,
     "metadata": {},
     "output_type": "execute_result"
    }
   ],
   "source": [
    "# Observo cuantas filas y columna tiene la data\n",
    "data.shape"
   ]
  },
  {
   "cell_type": "code",
   "execution_count": 7,
   "id": "82c85745-5c59-4b6b-9900-d93ab978657a",
   "metadata": {},
   "outputs": [
    {
     "data": {
      "text/html": [
       "<div>\n",
       "<style scoped>\n",
       "    .dataframe tbody tr th:only-of-type {\n",
       "        vertical-align: middle;\n",
       "    }\n",
       "\n",
       "    .dataframe tbody tr th {\n",
       "        vertical-align: top;\n",
       "    }\n",
       "\n",
       "    .dataframe thead th {\n",
       "        text-align: right;\n",
       "    }\n",
       "</style>\n",
       "<table border=\"1\" class=\"dataframe\">\n",
       "  <thead>\n",
       "    <tr style=\"text-align: right;\">\n",
       "      <th></th>\n",
       "      <th>0</th>\n",
       "      <th>1</th>\n",
       "      <th>2</th>\n",
       "      <th>3</th>\n",
       "      <th>4</th>\n",
       "    </tr>\n",
       "  </thead>\n",
       "  <tbody>\n",
       "    <tr>\n",
       "      <th>Div</th>\n",
       "      <td>E0</td>\n",
       "      <td>E0</td>\n",
       "      <td>E0</td>\n",
       "      <td>E0</td>\n",
       "      <td>E0</td>\n",
       "    </tr>\n",
       "    <tr>\n",
       "      <th>Date</th>\n",
       "      <td>13/08/2021</td>\n",
       "      <td>14/08/2021</td>\n",
       "      <td>14/08/2021</td>\n",
       "      <td>14/08/2021</td>\n",
       "      <td>14/08/2021</td>\n",
       "    </tr>\n",
       "    <tr>\n",
       "      <th>Time</th>\n",
       "      <td>20:00</td>\n",
       "      <td>12:30</td>\n",
       "      <td>15:00</td>\n",
       "      <td>15:00</td>\n",
       "      <td>15:00</td>\n",
       "    </tr>\n",
       "    <tr>\n",
       "      <th>HomeTeam</th>\n",
       "      <td>Brentford</td>\n",
       "      <td>Man United</td>\n",
       "      <td>Burnley</td>\n",
       "      <td>Chelsea</td>\n",
       "      <td>Everton</td>\n",
       "    </tr>\n",
       "    <tr>\n",
       "      <th>AwayTeam</th>\n",
       "      <td>Arsenal</td>\n",
       "      <td>Leeds</td>\n",
       "      <td>Brighton</td>\n",
       "      <td>Crystal Palace</td>\n",
       "      <td>Southampton</td>\n",
       "    </tr>\n",
       "    <tr>\n",
       "      <th>...</th>\n",
       "      <td>...</td>\n",
       "      <td>...</td>\n",
       "      <td>...</td>\n",
       "      <td>...</td>\n",
       "      <td>...</td>\n",
       "    </tr>\n",
       "    <tr>\n",
       "      <th>PCAHA</th>\n",
       "      <td>2.13</td>\n",
       "      <td>1.77</td>\n",
       "      <td>2.14</td>\n",
       "      <td>1.81</td>\n",
       "      <td>1.88</td>\n",
       "    </tr>\n",
       "    <tr>\n",
       "      <th>MaxCAHH</th>\n",
       "      <td>2.05</td>\n",
       "      <td>2.19</td>\n",
       "      <td>1.82</td>\n",
       "      <td>2.16</td>\n",
       "      <td>2.08</td>\n",
       "    </tr>\n",
       "    <tr>\n",
       "      <th>MaxCAHA</th>\n",
       "      <td>2.17</td>\n",
       "      <td>1.93</td>\n",
       "      <td>2.19</td>\n",
       "      <td>1.93</td>\n",
       "      <td>1.9</td>\n",
       "    </tr>\n",
       "    <tr>\n",
       "      <th>AvgCAHH</th>\n",
       "      <td>1.8</td>\n",
       "      <td>2.1</td>\n",
       "      <td>1.79</td>\n",
       "      <td>2.06</td>\n",
       "      <td>2.03</td>\n",
       "    </tr>\n",
       "    <tr>\n",
       "      <th>AvgCAHA</th>\n",
       "      <td>2.09</td>\n",
       "      <td>1.79</td>\n",
       "      <td>2.12</td>\n",
       "      <td>1.82</td>\n",
       "      <td>1.86</td>\n",
       "    </tr>\n",
       "  </tbody>\n",
       "</table>\n",
       "<p>106 rows × 5 columns</p>\n",
       "</div>"
      ],
      "text/plain": [
       "                   0           1           2               3            4\n",
       "Div               E0          E0          E0              E0           E0\n",
       "Date      13/08/2021  14/08/2021  14/08/2021      14/08/2021   14/08/2021\n",
       "Time           20:00       12:30       15:00           15:00        15:00\n",
       "HomeTeam   Brentford  Man United     Burnley         Chelsea      Everton\n",
       "AwayTeam     Arsenal       Leeds    Brighton  Crystal Palace  Southampton\n",
       "...              ...         ...         ...             ...          ...\n",
       "PCAHA           2.13        1.77        2.14            1.81         1.88\n",
       "MaxCAHH         2.05        2.19        1.82            2.16         2.08\n",
       "MaxCAHA         2.17        1.93        2.19            1.93          1.9\n",
       "AvgCAHH          1.8         2.1        1.79            2.06         2.03\n",
       "AvgCAHA         2.09        1.79        2.12            1.82         1.86\n",
       "\n",
       "[106 rows x 5 columns]"
      ]
     },
     "execution_count": 7,
     "metadata": {},
     "output_type": "execute_result"
    }
   ],
   "source": [
    "# Mostrar los primeros cinco datos\n",
    "data.head().T"
   ]
  },
  {
   "cell_type": "markdown",
   "id": "5d9a96c4-1677-44e5-8375-45d6ddf87686",
   "metadata": {},
   "source": [
    "# Variables"
   ]
  },
  {
   "cell_type": "markdown",
   "id": "4effb54e-1bd1-458c-b4b4-39bf40689fcd",
   "metadata": {},
   "source": [
    "## Descripccion de la variable principal"
   ]
  },
  {
   "cell_type": "code",
   "execution_count": 8,
   "id": "94abbc8a-8e01-4ae1-9d68-b5e61c31c740",
   "metadata": {},
   "outputs": [
    {
     "data": {
      "text/plain": [
       "1    121\n",
       "0     93\n",
       "2     89\n",
       "3     50\n",
       "4     15\n",
       "5      8\n",
       "7      2\n",
       "6      2\n",
       "Name: FTHG, dtype: int64"
      ]
     },
     "execution_count": 8,
     "metadata": {},
     "output_type": "execute_result"
    }
   ],
   "source": [
    "# Cantidad de goles al final del partido del local\n",
    "data['FTHG'].value_counts()"
   ]
  },
  {
   "cell_type": "code",
   "execution_count": 9,
   "id": "785623c4-da4d-4f2c-8d13-fae1984ab86a",
   "metadata": {},
   "outputs": [
    {
     "data": {
      "text/plain": [
       "1    0.318421\n",
       "0    0.244737\n",
       "2    0.234211\n",
       "3    0.131579\n",
       "4    0.039474\n",
       "5    0.021053\n",
       "7    0.005263\n",
       "6    0.005263\n",
       "Name: FTHG, dtype: float64"
      ]
     },
     "execution_count": 9,
     "metadata": {},
     "output_type": "execute_result"
    }
   ],
   "source": [
    "# Cantidad de goles al final del partido del local (porcentaje)\n",
    "data['FTHG'].value_counts(normalize =True)"
   ]
  },
  {
   "cell_type": "code",
   "execution_count": 10,
   "id": "192d0143-bc4e-459c-b3db-82dca32839a9",
   "metadata": {},
   "outputs": [
    {
     "data": {
      "text/plain": [
       "<AxesSubplot: xlabel='FTHG', ylabel='Count'>"
      ]
     },
     "execution_count": 10,
     "metadata": {},
     "output_type": "execute_result"
    },
    {
     "data": {
      "image/png": "[encoded data removed]",
      "text/plain": [
       "<Figure size 640x480 with 1 Axes>"
      ]
     },
     "metadata": {},
     "output_type": "display_data"
    }
   ],
   "source": [
    "# Grafico de histograma\n",
    "seaborn.histplot(data, x='FTHG', bins=30)"
   ]
  },
  {
   "cell_type": "code",
   "execution_count": 11,
   "id": "5cc6b509-7f15-478d-9cb3-bff189793b68",
   "metadata": {},
   "outputs": [
    {
     "data": {
      "text/plain": [
       "<AxesSubplot: ylabel='FTHG'>"
      ]
     },
     "execution_count": 11,
     "metadata": {},
     "output_type": "execute_result"
    },
    {
     "data": {
      "image/png": "[encoded data removed]",
      "text/plain": [
       "<Figure size 640x480 with 1 Axes>"
      ]
     },
     "metadata": {},
     "output_type": "display_data"
    }
   ],
   "source": [
    "# Grafico de Caja\n",
    "seaborn.boxplot(data, y='FTHG')"
   ]
  },
  {
   "cell_type": "code",
   "execution_count": 12,
   "id": "1a168d6e-0211-4d06-ba4d-2f775c9338dd",
   "metadata": {},
   "outputs": [
    {
     "data": {
      "image/png": "[encoded data removed]",
      "text/plain": [
       "<Figure size 640x480 with 2 Axes>"
      ]
     },
     "metadata": {},
     "output_type": "display_data"
    }
   ],
   "source": [
    "# Histogramas de shots de goles de visitante (away ) vs local (home)\n",
    "import matplotlib.pyplot as plt\n",
    "#seaborn.histplot(data, x='HS', bins=10)\n",
    "#seaborn.boxplot(data, y=['HS','AS'])\n",
    "\n",
    "# Crear los gráficos de caja\n",
    "plt.subplot(1, 2, 1)  # Primer gráfico de caja\n",
    "seaborn.boxplot(data=data['HS'])\n",
    "plt.title('Tiros de goals local')\n",
    "\n",
    "plt.subplot(1, 2, 2)  # Segundo gráfico de caja\n",
    "seaborn.boxplot(data=data['AS'])\n",
    "plt.title('Tiros de goals visitante')\n",
    "\n",
    "# Ajustar el diseño y mostrar los gráficos\n",
    "plt.tight_layout()\n",
    "plt.show()"
   ]
  },
  {
   "cell_type": "markdown",
   "id": "52bb71e2-725a-4ac9-bf4f-3a9e37d18702",
   "metadata": {},
   "source": [
    "## Analisis de goles y equipo"
   ]
  },
  {
   "cell_type": "code",
   "execution_count": 13,
   "id": "d86c6511-1104-4ae2-a853-3f9dce824bf1",
   "metadata": {},
   "outputs": [
    {
     "name": "stdout",
     "output_type": "stream",
     "text": [
      "\n",
      "Quienes son los quipos con mas goles (mayor de 95 %)\n",
      "\n",
      "['Man United' 'Man City' 'Chelsea' 'Liverpool' 'Tottenham' 'Arsenal']\n"
     ]
    }
   ],
   "source": [
    "# ¿Quienes son esos outliers?\n",
    "cuantil = data['FTHG'].quantile(0.95)\n",
    "data_outliers = data[data['FTHG'] > cuantil]\n",
    "\n",
    "print()\n",
    "print(\"Quienes son los quipos con mas goles (mayor de 95 %)\")\n",
    "print()\n",
    "print(data_outliers['HomeTeam'].unique())\n"
   ]
  },
  {
   "cell_type": "code",
   "execution_count": 14,
   "id": "f9b859b2-58da-45f3-b5dc-48e531f23ebb",
   "metadata": {},
   "outputs": [],
   "source": [
    "# Variables que analizaremos (filtro de variables)\n",
    "base_variables = ['FTHG','HS','AS','HY']"
   ]
  },
  {
   "cell_type": "code",
   "execution_count": 15,
   "id": "2723cbcb-708b-4cf7-ac1f-7a8201c743c7",
   "metadata": {},
   "outputs": [
    {
     "data": {
      "text/html": [
       "<div>\n",
       "<style scoped>\n",
       "    .dataframe tbody tr th:only-of-type {\n",
       "        vertical-align: middle;\n",
       "    }\n",
       "\n",
       "    .dataframe tbody tr th {\n",
       "        vertical-align: top;\n",
       "    }\n",
       "\n",
       "    .dataframe thead th {\n",
       "        text-align: right;\n",
       "    }\n",
       "</style>\n",
       "<table border=\"1\" class=\"dataframe\">\n",
       "  <thead>\n",
       "    <tr style=\"text-align: right;\">\n",
       "      <th></th>\n",
       "      <th>FTHG</th>\n",
       "      <th>HS</th>\n",
       "      <th>AS</th>\n",
       "      <th>HY</th>\n",
       "    </tr>\n",
       "  </thead>\n",
       "  <tbody>\n",
       "    <tr>\n",
       "      <th>count</th>\n",
       "      <td>380.000000</td>\n",
       "      <td>380.000000</td>\n",
       "      <td>380.000000</td>\n",
       "      <td>380.000000</td>\n",
       "    </tr>\n",
       "    <tr>\n",
       "      <th>mean</th>\n",
       "      <td>1.513158</td>\n",
       "      <td>13.847368</td>\n",
       "      <td>11.736842</td>\n",
       "      <td>1.652632</td>\n",
       "    </tr>\n",
       "    <tr>\n",
       "      <th>std</th>\n",
       "      <td>1.326545</td>\n",
       "      <td>5.661784</td>\n",
       "      <td>5.348460</td>\n",
       "      <td>1.258373</td>\n",
       "    </tr>\n",
       "    <tr>\n",
       "      <th>min</th>\n",
       "      <td>0.000000</td>\n",
       "      <td>3.000000</td>\n",
       "      <td>1.000000</td>\n",
       "      <td>0.000000</td>\n",
       "    </tr>\n",
       "    <tr>\n",
       "      <th>25%</th>\n",
       "      <td>1.000000</td>\n",
       "      <td>9.000000</td>\n",
       "      <td>8.000000</td>\n",
       "      <td>1.000000</td>\n",
       "    </tr>\n",
       "    <tr>\n",
       "      <th>50%</th>\n",
       "      <td>1.000000</td>\n",
       "      <td>13.500000</td>\n",
       "      <td>11.000000</td>\n",
       "      <td>1.500000</td>\n",
       "    </tr>\n",
       "    <tr>\n",
       "      <th>75%</th>\n",
       "      <td>2.000000</td>\n",
       "      <td>17.000000</td>\n",
       "      <td>15.000000</td>\n",
       "      <td>2.000000</td>\n",
       "    </tr>\n",
       "    <tr>\n",
       "      <th>max</th>\n",
       "      <td>7.000000</td>\n",
       "      <td>31.000000</td>\n",
       "      <td>31.000000</td>\n",
       "      <td>6.000000</td>\n",
       "    </tr>\n",
       "  </tbody>\n",
       "</table>\n",
       "</div>"
      ],
      "text/plain": [
       "             FTHG          HS          AS          HY\n",
       "count  380.000000  380.000000  380.000000  380.000000\n",
       "mean     1.513158   13.847368   11.736842    1.652632\n",
       "std      1.326545    5.661784    5.348460    1.258373\n",
       "min      0.000000    3.000000    1.000000    0.000000\n",
       "25%      1.000000    9.000000    8.000000    1.000000\n",
       "50%      1.000000   13.500000   11.000000    1.500000\n",
       "75%      2.000000   17.000000   15.000000    2.000000\n",
       "max      7.000000   31.000000   31.000000    6.000000"
      ]
     },
     "execution_count": 15,
     "metadata": {},
     "output_type": "execute_result"
    }
   ],
   "source": [
    "# Calculo del promedio \n",
    "data[base_variables].describe()"
   ]
  },
  {
   "cell_type": "code",
   "execution_count": 16,
   "id": "14d9870a-b541-4698-92d4-6d4a745044e9",
   "metadata": {},
   "outputs": [
    {
     "data": {
      "text/plain": [
       "1.513157894736842"
      ]
     },
     "execution_count": 16,
     "metadata": {},
     "output_type": "execute_result"
    }
   ],
   "source": [
    "# Calculo del promedio \n",
    "data['FTHG'].mean()"
   ]
  },
  {
   "cell_type": "markdown",
   "id": "797f3e67-c528-438c-8f58-e66ea197f902",
   "metadata": {},
   "source": [
    "## Analisis de correlacion"
   ]
  },
  {
   "cell_type": "code",
   "execution_count": 17,
   "id": "c386824e-f7cc-42af-a19a-f519b1342120",
   "metadata": {},
   "outputs": [
    {
     "data": {
      "image/png": "[encoded data removed]",
      "text/plain": [
       "<Figure size 640x480 with 2 Axes>"
      ]
     },
     "metadata": {},
     "output_type": "display_data"
    }
   ],
   "source": [
    "# Correlacion (mapa)\n",
    "# Calcular la matriz de correlación\n",
    "correlation_matrix = data[base_variables].corr()\n",
    "\n",
    "# Crear el mapa de calor de correlación\n",
    "seaborn.heatmap(correlation_matrix, annot=True, cmap='coolwarm')\n",
    "\n",
    "# Mostrar el gráfico\n",
    "plt.title('Mapa de calor de correlación')\n",
    "plt.show()\n",
    "\n"
   ]
  },
  {
   "cell_type": "code",
   "execution_count": 18,
   "id": "d5ade606-b251-4d05-8bcd-78e36e01ab72",
   "metadata": {},
   "outputs": [
    {
     "data": {
      "text/html": [
       "<div>\n",
       "<style scoped>\n",
       "    .dataframe tbody tr th:only-of-type {\n",
       "        vertical-align: middle;\n",
       "    }\n",
       "\n",
       "    .dataframe tbody tr th {\n",
       "        vertical-align: top;\n",
       "    }\n",
       "\n",
       "    .dataframe thead th {\n",
       "        text-align: right;\n",
       "    }\n",
       "</style>\n",
       "<table border=\"1\" class=\"dataframe\">\n",
       "  <thead>\n",
       "    <tr style=\"text-align: right;\">\n",
       "      <th></th>\n",
       "      <th>FTHG</th>\n",
       "      <th>HS</th>\n",
       "      <th>AS</th>\n",
       "      <th>HY</th>\n",
       "    </tr>\n",
       "  </thead>\n",
       "  <tbody>\n",
       "    <tr>\n",
       "      <th>FTHG</th>\n",
       "      <td>1.000</td>\n",
       "      <td>0.399</td>\n",
       "      <td>-0.279</td>\n",
       "      <td>-0.231</td>\n",
       "    </tr>\n",
       "    <tr>\n",
       "      <th>HS</th>\n",
       "      <td>0.399</td>\n",
       "      <td>1.000</td>\n",
       "      <td>-0.518</td>\n",
       "      <td>-0.203</td>\n",
       "    </tr>\n",
       "    <tr>\n",
       "      <th>AS</th>\n",
       "      <td>-0.279</td>\n",
       "      <td>-0.518</td>\n",
       "      <td>1.000</td>\n",
       "      <td>0.131</td>\n",
       "    </tr>\n",
       "    <tr>\n",
       "      <th>HY</th>\n",
       "      <td>-0.231</td>\n",
       "      <td>-0.203</td>\n",
       "      <td>0.131</td>\n",
       "      <td>1.000</td>\n",
       "    </tr>\n",
       "  </tbody>\n",
       "</table>\n",
       "</div>"
      ],
      "text/plain": [
       "       FTHG     HS     AS     HY\n",
       "FTHG  1.000  0.399 -0.279 -0.231\n",
       "HS    0.399  1.000 -0.518 -0.203\n",
       "AS   -0.279 -0.518  1.000  0.131\n",
       "HY   -0.231 -0.203  0.131  1.000"
      ]
     },
     "execution_count": 18,
     "metadata": {},
     "output_type": "execute_result"
    }
   ],
   "source": [
    "# Método paramétrico, es decir, X y Y tienen una distribución normal\n",
    "r = data[base_variables].corr(method='pearson').round(3) \n",
    "r"
   ]
  },
  {
   "cell_type": "code",
   "execution_count": 19,
   "id": "f69b2561-ca30-4efe-8a8e-547b30899d9b",
   "metadata": {},
   "outputs": [
    {
     "data": {
      "text/html": [
       "<div>\n",
       "<style scoped>\n",
       "    .dataframe tbody tr th:only-of-type {\n",
       "        vertical-align: middle;\n",
       "    }\n",
       "\n",
       "    .dataframe tbody tr th {\n",
       "        vertical-align: top;\n",
       "    }\n",
       "\n",
       "    .dataframe thead th {\n",
       "        text-align: right;\n",
       "    }\n",
       "</style>\n",
       "<table border=\"1\" class=\"dataframe\">\n",
       "  <thead>\n",
       "    <tr style=\"text-align: right;\">\n",
       "      <th></th>\n",
       "      <th>FTHG</th>\n",
       "      <th>HS</th>\n",
       "      <th>AS</th>\n",
       "      <th>HY</th>\n",
       "    </tr>\n",
       "  </thead>\n",
       "  <tbody>\n",
       "    <tr>\n",
       "      <th>FTHG</th>\n",
       "      <td>1.000</td>\n",
       "      <td>0.391</td>\n",
       "      <td>-0.250</td>\n",
       "      <td>-0.209</td>\n",
       "    </tr>\n",
       "    <tr>\n",
       "      <th>HS</th>\n",
       "      <td>0.391</td>\n",
       "      <td>1.000</td>\n",
       "      <td>-0.525</td>\n",
       "      <td>-0.202</td>\n",
       "    </tr>\n",
       "    <tr>\n",
       "      <th>AS</th>\n",
       "      <td>-0.250</td>\n",
       "      <td>-0.525</td>\n",
       "      <td>1.000</td>\n",
       "      <td>0.137</td>\n",
       "    </tr>\n",
       "    <tr>\n",
       "      <th>HY</th>\n",
       "      <td>-0.209</td>\n",
       "      <td>-0.202</td>\n",
       "      <td>0.137</td>\n",
       "      <td>1.000</td>\n",
       "    </tr>\n",
       "  </tbody>\n",
       "</table>\n",
       "</div>"
      ],
      "text/plain": [
       "       FTHG     HS     AS     HY\n",
       "FTHG  1.000  0.391 -0.250 -0.209\n",
       "HS    0.391  1.000 -0.525 -0.202\n",
       "AS   -0.250 -0.525  1.000  0.137\n",
       "HY   -0.209 -0.202  0.137  1.000"
      ]
     },
     "execution_count": 19,
     "metadata": {},
     "output_type": "execute_result"
    }
   ],
   "source": [
    "# No paramétrico\n",
    "Rho =  data[base_variables].corr(method='spearman').round(3)\n",
    "Rho"
   ]
  },
  {
   "cell_type": "markdown",
   "id": "a1dfe61a-9db2-4402-970e-4ee69e94fe8e",
   "metadata": {},
   "source": [
    "# Modelo "
   ]
  },
  {
   "cell_type": "code",
   "execution_count": 20,
   "id": "c678fe9b-4553-4c68-8064-4cb34b656efd",
   "metadata": {},
   "outputs": [],
   "source": [
    "# importing the tools required for the Poisson regression model\n",
    "import statsmodels.api as sm\n",
    "import statsmodels.formula.api as smf"
   ]
  },
  {
   "cell_type": "code",
   "execution_count": 21,
   "id": "9b78dd5b-97c0-4fe9-91c5-5f82be5a15ea",
   "metadata": {},
   "outputs": [
    {
     "data": {
      "text/html": [
       "<div>\n",
       "<style scoped>\n",
       "    .dataframe tbody tr th:only-of-type {\n",
       "        vertical-align: middle;\n",
       "    }\n",
       "\n",
       "    .dataframe tbody tr th {\n",
       "        vertical-align: top;\n",
       "    }\n",
       "\n",
       "    .dataframe thead th {\n",
       "        text-align: right;\n",
       "    }\n",
       "</style>\n",
       "<table border=\"1\" class=\"dataframe\">\n",
       "  <thead>\n",
       "    <tr style=\"text-align: right;\">\n",
       "      <th></th>\n",
       "      <th>0</th>\n",
       "      <th>1</th>\n",
       "      <th>2</th>\n",
       "      <th>3</th>\n",
       "      <th>4</th>\n",
       "    </tr>\n",
       "  </thead>\n",
       "  <tbody>\n",
       "    <tr>\n",
       "      <th>FTHG</th>\n",
       "      <td>2</td>\n",
       "      <td>5</td>\n",
       "      <td>1</td>\n",
       "      <td>3</td>\n",
       "      <td>3</td>\n",
       "    </tr>\n",
       "    <tr>\n",
       "      <th>HS</th>\n",
       "      <td>8</td>\n",
       "      <td>16</td>\n",
       "      <td>14</td>\n",
       "      <td>13</td>\n",
       "      <td>14</td>\n",
       "    </tr>\n",
       "    <tr>\n",
       "      <th>AS</th>\n",
       "      <td>22</td>\n",
       "      <td>10</td>\n",
       "      <td>14</td>\n",
       "      <td>4</td>\n",
       "      <td>6</td>\n",
       "    </tr>\n",
       "    <tr>\n",
       "      <th>HY</th>\n",
       "      <td>0</td>\n",
       "      <td>1</td>\n",
       "      <td>2</td>\n",
       "      <td>0</td>\n",
       "      <td>2</td>\n",
       "    </tr>\n",
       "  </tbody>\n",
       "</table>\n",
       "</div>"
      ],
      "text/plain": [
       "       0   1   2   3   4\n",
       "FTHG   2   5   1   3   3\n",
       "HS     8  16  14  13  14\n",
       "AS    22  10  14   4   6\n",
       "HY     0   1   2   0   2"
      ]
     },
     "execution_count": 21,
     "metadata": {},
     "output_type": "execute_result"
    }
   ],
   "source": [
    "data_modelo = data[base_variables]\n",
    "data_modelo.head().T"
   ]
  },
  {
   "cell_type": "markdown",
   "id": "ee5f7d92-ab99-430c-af3f-a4a205540f76",
   "metadata": {},
   "source": [
    "## Modelo Poisson"
   ]
  },
  {
   "cell_type": "code",
   "execution_count": 22,
   "id": "92c74886-d7df-49ee-a28f-9745760df2cb",
   "metadata": {},
   "outputs": [],
   "source": [
    "poisson_model = smf.glm(formula =\"FTHG ~ HS + AS + HY\", data=data_modelo, family= sm.families.Poisson()).fit()"
   ]
  },
  {
   "cell_type": "code",
   "execution_count": 23,
   "id": "0f172112-2111-4228-b2f5-2d1cfaa01696",
   "metadata": {},
   "outputs": [
    {
     "name": "stdout",
     "output_type": "stream",
     "text": [
      "                 Generalized Linear Model Regression Results                  \n",
      "==============================================================================\n",
      "Dep. Variable:                   FTHG   No. Observations:                  380\n",
      "Model:                            GLM   Df Residuals:                      376\n",
      "Model Family:                 Poisson   Df Model:                            3\n",
      "Link Function:                    Log   Scale:                          1.0000\n",
      "Method:                          IRLS   Log-Likelihood:                -563.81\n",
      "Date:                Sat, 17 Jun 2023   Deviance:                       411.65\n",
      "Time:                        13:50:53   Pearson chi2:                     344.\n",
      "No. Iterations:                     5   Pseudo R-squ. (CS):             0.1919\n",
      "Covariance Type:            nonrobust                                         \n",
      "==============================================================================\n",
      "                 coef    std err          z      P>|z|      [0.025      0.975]\n",
      "------------------------------------------------------------------------------\n",
      "Intercept      0.1500      0.217      0.692      0.489      -0.275       0.575\n",
      "HS             0.0436      0.008      5.291      0.000       0.027       0.060\n",
      "AS            -0.0189      0.010     -1.947      0.051      -0.038       0.000\n",
      "HY            -0.1135      0.037     -3.105      0.002      -0.185      -0.042\n",
      "==============================================================================\n"
     ]
    }
   ],
   "source": [
    "print(poisson_model.summary())"
   ]
  },
  {
   "cell_type": "code",
   "execution_count": 24,
   "id": "129dc19b-f543-4fc5-a950-4d2d43259303",
   "metadata": {},
   "outputs": [],
   "source": [
    "# importing the tools required for the Poisson regression model\n",
    "import statsmodels.api as sm"
   ]
  },
  {
   "cell_type": "code",
   "execution_count": 25,
   "id": "29caf2ee-d65c-46eb-9984-96e61170e5cb",
   "metadata": {},
   "outputs": [],
   "source": [
    "# Separamos la informacion de variuable dependiente\n",
    "y = data_modelo['FTHG']\n",
    "# Variables indepdendiente\n",
    "X = data_modelo[['HS', 'AS', 'HY']]\n",
    "# Se agrega la constante\n",
    "X = sm.add_constant(X)\n"
   ]
  },
  {
   "cell_type": "code",
   "execution_count": 26,
   "id": "6e0a42a9-d826-406f-8b7a-4e59fba93425",
   "metadata": {},
   "outputs": [],
   "source": [
    "# Realiza predicciones utilizando el modelo ajustado\n",
    "poisson_model_v2 = sm.GLM(y, X, family=sm.families.Poisson()).fit()"
   ]
  },
  {
   "cell_type": "code",
   "execution_count": 27,
   "id": "645e0933-d2e1-4388-9047-32884f926adc",
   "metadata": {},
   "outputs": [
    {
     "name": "stdout",
     "output_type": "stream",
     "text": [
      "                 Generalized Linear Model Regression Results                  \n",
      "==============================================================================\n",
      "Dep. Variable:                   FTHG   No. Observations:                  380\n",
      "Model:                            GLM   Df Residuals:                      376\n",
      "Model Family:                 Poisson   Df Model:                            3\n",
      "Link Function:                    Log   Scale:                          1.0000\n",
      "Method:                          IRLS   Log-Likelihood:                -563.81\n",
      "Date:                Sat, 17 Jun 2023   Deviance:                       411.65\n",
      "Time:                        13:50:53   Pearson chi2:                     344.\n",
      "No. Iterations:                     5   Pseudo R-squ. (CS):             0.1919\n",
      "Covariance Type:            nonrobust                                         \n",
      "==============================================================================\n",
      "                 coef    std err          z      P>|z|      [0.025      0.975]\n",
      "------------------------------------------------------------------------------\n",
      "const          0.1500      0.217      0.692      0.489      -0.275       0.575\n",
      "HS             0.0436      0.008      5.291      0.000       0.027       0.060\n",
      "AS            -0.0189      0.010     -1.947      0.051      -0.038       0.000\n",
      "HY            -0.1135      0.037     -3.105      0.002      -0.185      -0.042\n",
      "==============================================================================\n"
     ]
    }
   ],
   "source": [
    "print(poisson_model_v2.summary())"
   ]
  },
  {
   "cell_type": "markdown",
   "id": "31603522-8681-43be-8a16-19ca5a699a30",
   "metadata": {},
   "source": [
    "## Modelo Binomial Negativa"
   ]
  },
  {
   "cell_type": "code",
   "execution_count": 28,
   "id": "d7bb431e-ae0e-44af-809b-4a60ad763abb",
   "metadata": {},
   "outputs": [
    {
     "name": "stderr",
     "output_type": "stream",
     "text": [
      "C:\\Users\\edinson\\.conda\\envs\\python_3_10\\lib\\site-packages\\statsmodels\\genmod\\families\\family.py:1367: ValueWarning: Negative binomial dispersion parameter alpha not set. Using default value alpha=1.0.\n",
      "  warnings.warn(\"Negative binomial dispersion parameter alpha not \"\n"
     ]
    }
   ],
   "source": [
    "# Realiza predicciones utilizando el modelo ajustado\n",
    "binomial_model_v1 = sm.GLM(y, X, family=sm.families.NegativeBinomial()).fit()"
   ]
  },
  {
   "cell_type": "code",
   "execution_count": 29,
   "id": "23b6c2ca-5bad-4139-bf1f-8f03e9d13951",
   "metadata": {},
   "outputs": [
    {
     "name": "stdout",
     "output_type": "stream",
     "text": [
      "                 Generalized Linear Model Regression Results                  \n",
      "==============================================================================\n",
      "Dep. Variable:                   FTHG   No. Observations:                  380\n",
      "Model:                            GLM   Df Residuals:                      376\n",
      "Model Family:        NegativeBinomial   Df Model:                            3\n",
      "Link Function:                    Log   Scale:                          1.0000\n",
      "Method:                          IRLS   Log-Likelihood:                -625.12\n",
      "Date:                Sat, 17 Jun 2023   Deviance:                       208.08\n",
      "Time:                        13:50:53   Pearson chi2:                     142.\n",
      "No. Iterations:                     6   Pseudo R-squ. (CS):            0.08454\n",
      "Covariance Type:            nonrobust                                         \n",
      "==============================================================================\n",
      "                 coef    std err          z      P>|z|      [0.025      0.975]\n",
      "------------------------------------------------------------------------------\n",
      "const         -0.0276      0.348     -0.079      0.937      -0.710       0.655\n",
      "HS             0.0521      0.014      3.771      0.000       0.025       0.079\n",
      "AS            -0.0155      0.015     -1.028      0.304      -0.045       0.014\n",
      "HY            -0.1035      0.056     -1.840      0.066      -0.214       0.007\n",
      "==============================================================================\n"
     ]
    }
   ],
   "source": [
    "print(binomial_model_v1.summary())"
   ]
  },
  {
   "cell_type": "code",
   "execution_count": null,
   "id": "a6045561-5e4e-456e-8a3c-a07e517897e2",
   "metadata": {},
   "outputs": [],
   "source": []
  }
 ],
 "metadata": {
  "kernelspec": {
   "display_name": "python_last",
   "language": "python",
   "name": "python_last"
  },
  "language_info": {
   "codemirror_mode": {
    "name": "ipython",
    "version": 3
   },
   "file_extension": ".py",
   "mimetype": "text/x-python",
   "name": "python",
   "nbconvert_exporter": "python",
   "pygments_lexer": "ipython3",
   "version": "3.10.8"
  },
  "toc-autonumbering": true
 },
 "nbformat": 4,
 "nbformat_minor": 5
}
